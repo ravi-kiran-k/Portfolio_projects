{
 "cells": [
  {
   "cell_type": "code",
   "execution_count": 194,
   "id": "534d65cc",
   "metadata": {},
   "outputs": [],
   "source": [
    "import csv\n",
    "import requests\n",
    "from bs4 import BeautifulSoup "
   ]
  },
  {
   "cell_type": "code",
   "execution_count": null,
   "id": "173e3736",
   "metadata": {},
   "outputs": [],
   "source": [
    "# Fethced the headers from : https://httpbin.org/get"
   ]
  },
  {
   "cell_type": "code",
   "execution_count": 212,
   "id": "35700da7",
   "metadata": {},
   "outputs": [
    {
     "data": {
      "text/plain": [
       "True"
      ]
     },
     "execution_count": 212,
     "metadata": {},
     "output_type": "execute_result"
    }
   ],
   "source": [
    "header= {\"User-Agent\": \"Mozilla/5.0 (Windows NT 10.0; Win64; x64) AppleWebKit/537.36 (KHTML, like Gecko) Chrome/101.0.4951.41 Safari/537.36 Edg/101.0.1210.32\",\n",
    "            \"Accept-Encoding\":\"gzip, deflate\", \n",
    "               \"Accept\":\"text/html,application/xhtml+xml,application/xml;q=0.9,*/*;q=0.8\", \n",
    "               \"DNT\":\"1\",\n",
    "               \"Connection\":\"close\", \n",
    "               \"Upgrade-Insecure-Requests\":\"1\"}\n",
    "url='https://www.amazon.com/s?i=computers-intl-ship&bbn=16225007011&rh=n%3A16225007011%2Cn%3A13896617011&page=1'      \n",
    "response=requests.get(url, headers=header)\n",
    "response.ok"
   ]
  },
  {
   "cell_type": "code",
   "execution_count": null,
   "id": "75182b10",
   "metadata": {},
   "outputs": [],
   "source": [
    "soup=BeautifulSoup(response.content, 'html.parser')"
   ]
  },
  {
   "cell_type": "code",
   "execution_count": null,
   "id": "bc283eaf",
   "metadata": {},
   "outputs": [],
   "source": [
    "#soup.find_all(id='a-page')"
   ]
  },
  {
   "cell_type": "code",
   "execution_count": null,
   "id": "12507b52",
   "metadata": {},
   "outputs": [],
   "source": [
    "product_name=soup.find_all('div',{'data-component-type':'s-search-result'})\n",
    "len(product_name)"
   ]
  },
  {
   "cell_type": "code",
   "execution_count": null,
   "id": "45235cb6",
   "metadata": {},
   "outputs": [],
   "source": [
    "item=product_name[0]"
   ]
  },
  {
   "cell_type": "code",
   "execution_count": null,
   "id": "637f2b9e",
   "metadata": {},
   "outputs": [],
   "source": [
    "atag=item.h2.a"
   ]
  },
  {
   "cell_type": "code",
   "execution_count": null,
   "id": "740b619d",
   "metadata": {},
   "outputs": [],
   "source": [
    "url='https://amazon.com'+atag.get('href')"
   ]
  },
  {
   "cell_type": "code",
   "execution_count": null,
   "id": "05fbd081",
   "metadata": {},
   "outputs": [],
   "source": [
    "description=atag.text.strip()"
   ]
  },
  {
   "cell_type": "code",
   "execution_count": null,
   "id": "b536bfe4",
   "metadata": {},
   "outputs": [],
   "source": [
    "name=atag.text.split('|')[0].strip()\n",
    "name"
   ]
  },
  {
   "cell_type": "code",
   "execution_count": null,
   "id": "0f75ac00",
   "metadata": {},
   "outputs": [],
   "source": [
    "temp=item.find('span','a-price')\n",
    "price=temp.find('span','a-offscreen').text\n",
    "price"
   ]
  },
  {
   "cell_type": "code",
   "execution_count": null,
   "id": "dd7ce578",
   "metadata": {},
   "outputs": [],
   "source": [
    "#temp=name.find('span',{'class':\"a-declarative\"})\n",
    "#temp.i.text[:3]\n",
    "rating =item.i.text[:3]"
   ]
  },
  {
   "cell_type": "code",
   "execution_count": null,
   "id": "a07d0ffa",
   "metadata": {},
   "outputs": [],
   "source": [
    "temp=item.find('span',{'class':'a-size-base s-underline-text'})\n",
    "voters=temp.text\n",
    "voters"
   ]
  },
  {
   "cell_type": "code",
   "execution_count": null,
   "id": "bb3e49c9",
   "metadata": {},
   "outputs": [],
   "source": [
    "temp=item.find('div',{'class':'a-row a-size-base a-color-base'})\n",
    "discount=temp.a.span.text.strip('-')"
   ]
  },
  {
   "cell_type": "code",
   "execution_count": null,
   "id": "60ba535b",
   "metadata": {},
   "outputs": [],
   "source": [
    "temp=item.find('span' ,{'class':'a-price a-text-price'})\n",
    "original=temp.find('span',{'class':'a-offscreen'}).text"
   ]
  },
  {
   "cell_type": "code",
   "execution_count": null,
   "id": "1c567c4c",
   "metadata": {},
   "outputs": [],
   "source": [
    "def scrap_items(item):\n",
    "    # Name, description, URL\n",
    "    \n",
    "    atag=item.h2.a\n",
    "    name=atag.text.split('|')[0].strip()\n",
    "    description=atag.text.strip()\n",
    "    url='https://amazon.com'+atag.get('href')\n",
    "    \n",
    "    try:\n",
    "        # Price \n",
    "        temp=item.find('span','a-price')\n",
    "        price=temp.find('span','a-offscreen').text\n",
    "        # OriginalPrice\n",
    "        temp=item.find('span' ,{'class':'a-price a-text-price'})\n",
    "        original=temp.find('span',{'class':'a-offscreen'}).text\n",
    "    except AttributeError:\n",
    "        return\n",
    "    \n",
    "    try:\n",
    "        # rating\n",
    "        rating =item.i.text[:3]\n",
    "\n",
    "        #voters,\n",
    "        temp=item.find('span',{'class':'a-size-base s-underline-text'})\n",
    "        voters=temp.text\n",
    "    \n",
    "        \n",
    "        # discount\n",
    "        temp=item.find('div',{'class':'a-row a-size-base a-color-base'})\n",
    "        discount=temp.a.span.text.strip('-')\n",
    "        \n",
    "    except AttributeError:\n",
    "        rating=''\n",
    "        voters=''\n",
    "                \n",
    "    \n",
    "    result=(name,description,price,rating,voters,discount,original,url)\n",
    "    \n",
    "    return(result)"
   ]
  },
  {
   "cell_type": "code",
   "execution_count": null,
   "id": "5a6d6797",
   "metadata": {},
   "outputs": [],
   "source": [
    "# records=[]\n",
    "# product_names =soup.find_all('div',{'data-component-type':'s-search-result'})\n",
    "# for item in product_names:\n",
    "#     records.append(scrap_items(item))"
   ]
  },
  {
   "cell_type": "code",
   "execution_count": null,
   "id": "7b5b20e2",
   "metadata": {},
   "outputs": [],
   "source": [
    "records=[]\n",
    "soup=BeautifulSoup(response.content, 'html.parser')\n",
    "product_names =soup.find_all('div',{'data-component-type':'s-search-result'})\n",
    "for item in product_names:\n",
    "    record=scrap_items(item)\n",
    "    if record:\n",
    "        records.append(record)"
   ]
  },
  {
   "cell_type": "code",
   "execution_count": null,
   "id": "876d4aa0",
   "metadata": {},
   "outputs": [],
   "source": [
    "records"
   ]
  },
  {
   "cell_type": "code",
   "execution_count": null,
   "id": "93350d30",
   "metadata": {},
   "outputs": [],
   "source": [
    "for i in records:\n",
    "    print(i[2])"
   ]
  },
  {
   "cell_type": "markdown",
   "id": "388115a9",
   "metadata": {},
   "source": [
    "## Final code"
   ]
  },
  {
   "cell_type": "code",
   "execution_count": 214,
   "id": "510c320d",
   "metadata": {},
   "outputs": [],
   "source": [
    "import csv\n",
    "import requests\n",
    "from bs4 import BeautifulSoup \n",
    "\n",
    "def req(page):\n",
    "    header= {\"User-Agent\": \"Mozilla/5.0 (Windows NT 10.0; Win64; x64) AppleWebKit/537.36 (KHTML, like Gecko) Chrome/101.0.4951.41 Safari/537.36 Edg/101.0.1210.32\",\n",
    "            \"Accept-Encoding\":\"gzip, deflate\", \n",
    "               \"Accept\":\"text/html,application/xhtml+xml,application/xml;q=0.9,*/*;q=0.8\", \n",
    "               \"DNT\":\"1\",\n",
    "               \"Connection\":\"close\", \n",
    "               \"Upgrade-Insecure-Requests\":\"1\"}\n",
    "    url='https://www.amazon.com/s?i=computers-intl-ship&bbn=16225007011&rh=n%3A16225007011%2Cn%3A13896617011&page='+str(page)       \n",
    "    response=requests.get(url, headers=header)\n",
    "    \n",
    "    return response\n",
    "\n",
    "def scrap_items(item):\n",
    "    # Name, description, URL\n",
    "    \n",
    "    atag=item.h2.a\n",
    "    name=atag.text.split('|')[0].strip()\n",
    "    description=atag.text.strip()\n",
    "    url='https://amazon.com'+atag.get('href')\n",
    "    \n",
    "    try:\n",
    "        # Price \n",
    "        temp=item.find('span','a-price')\n",
    "        price=temp.find('span','a-offscreen').text\n",
    "        # OriginalPrice\n",
    "        temp=item.find('span' ,{'class':'a-price a-text-price'})\n",
    "        original=temp.find('span',{'class':'a-offscreen'}).text\n",
    "    except AttributeError:\n",
    "        return\n",
    "    \n",
    "    try:\n",
    "        # rating\n",
    "        rating =item.i.text[:3]\n",
    "\n",
    "        #no of people rated\n",
    "        temp=item.find('span',{'class':'a-size-base s-underline-text'})\n",
    "        voters=temp.text\n",
    "    \n",
    "        \n",
    "        # discount\n",
    "        temp=item.find('div',{'class':'a-row a-size-base a-color-base'})\n",
    "        discount=temp.a.span.text.strip('-')\n",
    "        \n",
    "    except AttributeError:  # If no rating or votes set it to empty\n",
    "        rating=''\n",
    "        voters=''\n",
    "                \n",
    "    \n",
    "    result=(name,description,price,rating,voters,discount,original,url)\n",
    "    \n",
    "    return(result)\n",
    "\n",
    "# Scrapping the first N pages , here we are doing for first 10 pages.\n",
    "\n",
    "records=[]\n",
    "for page in range(1,11):\n",
    "    resp=req(page)\n",
    "    soup=BeautifulSoup(resp.content, 'html.parser')\n",
    "    product_name=soup.find_all('div',{'data-component-type':'s-search-result'})\n",
    "    for item in product_names:\n",
    "        record=scrap_items(item)\n",
    "        if record:\n",
    "            records.append(record)\n",
    "            \n",
    "with open('web-scarp.csv','w',newline='',encoding='utf-8') as fp:\n",
    "    writer=csv.writer(fp)\n",
    "    writer.writerow(['Product-Name','Description','Price','Rating','People-Reviewed','Discount','Original-Price','Product-URL'])\n",
    "    writer.writerows(records)            "
   ]
  },
  {
   "cell_type": "code",
   "execution_count": null,
   "id": "141eaa10",
   "metadata": {},
   "outputs": [],
   "source": []
  }
 ],
 "metadata": {
  "kernelspec": {
   "display_name": "Python 3 (ipykernel)",
   "language": "python",
   "name": "python3"
  },
  "language_info": {
   "codemirror_mode": {
    "name": "ipython",
    "version": 3
   },
   "file_extension": ".py",
   "mimetype": "text/x-python",
   "name": "python",
   "nbconvert_exporter": "python",
   "pygments_lexer": "ipython3",
   "version": "3.9.7"
  }
 },
 "nbformat": 4,
 "nbformat_minor": 5
}
